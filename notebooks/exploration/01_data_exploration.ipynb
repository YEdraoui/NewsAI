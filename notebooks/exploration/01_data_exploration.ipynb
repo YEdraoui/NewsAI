{
 "cells": [
  {
   "cell_type": "code",
   "execution_count": null,
   "id": "3819fe66",
   "metadata": {
    "vscode": {
     "languageId": "plaintext"
    }
   },
   "outputs": [],
   "source": [
    "# Test cell - run this first\n",
    "import pandas as pd\n",
    "import numpy as np\n",
    "import matplotlib.pyplot as plt\n",
    "from pathlib import Path\n",
    "\n",
    "print(\"✅ All imports successful!\")\n",
    "print(\"📁 Current directory:\", Path.cwd())\n",
    "\n",
    "# Test loading data\n",
    "data_dir = Path(\"../../data\")\n",
    "print(f\"📊 Data directory exists: {data_dir.exists()}\")\n",
    "print(f\"📋 Files in data directory: {list(data_dir.glob('*.xlsx'))}\")"
   ]
  }
 ],
 "metadata": {
  "language_info": {
   "name": "python"
  }
 },
 "nbformat": 4,
 "nbformat_minor": 5
}
